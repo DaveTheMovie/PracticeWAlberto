{
 "cells": [
  {
   "cell_type": "code",
   "execution_count": 1,
   "metadata": {},
   "outputs": [],
   "source": [
    "import numpy as np\n",
    "import scipy.stats as si\n",
    "import sympy as sy\n",
    "import matplotlib.pyplot as plt\n",
    "from sympy.stats import Normal, cdf\n",
    "from sympy import init_printing\n",
    "init_printing()"
   ]
  },
  {
   "cell_type": "code",
   "execution_count": 2,
   "metadata": {},
   "outputs": [],
   "source": [
    "def euro_vanilla_call(S, T, K, r, sigma):\n",
    "    d1 = (np.log(S / K) + (r + 0.5 * sigma ** 2) * T) / (sigma * np.sqrt(T))\n",
    "    d2 = (np.log(S / K) + (r - 0.5 * sigma ** 2) * T) / (sigma * np.sqrt(T))\n",
    "    call = (S * si.norm.cdf(d1, 0.0, 1.0) - K * np.exp(-r * T) * si.norm.cdf(d2, 0.0, 1.0))\n",
    "    return call"
   ]
  },
  {
   "cell_type": "code",
   "execution_count": 3,
   "metadata": {},
   "outputs": [],
   "source": [
    "def MCTS(S0,T,r,s,dt = 1/252):\n",
    "    St = S0\n",
    "    n = int(round(T/dt,0))\n",
    "    r_dt = r * dt\n",
    "    s_sqrt_dt = s * np.sqrt(dt)\n",
    "    sims = np.zeros(n+1)\n",
    "    sims[0] = S0\n",
    "    for i in range(n):\n",
    "        sims[i+1] = sims[i] * (1+ np.random.normal(r_dt, s_sqrt_dt))\n",
    "    return sims"
   ]
  },
  {
   "cell_type": "code",
   "execution_count": 4,
   "metadata": {},
   "outputs": [
    {
     "ename": "SyntaxError",
     "evalue": "non-default argument follows default argument (<ipython-input-4-3897992b5acb>, line 1)",
     "output_type": "error",
     "traceback": [
      "\u001b[0;36m  File \u001b[0;32m\"<ipython-input-4-3897992b5acb>\"\u001b[0;36m, line \u001b[0;32m1\u001b[0m\n\u001b[0;31m    def MCTS_Zvec(S0,T,r,s,dt = 1/252,Zvec):\u001b[0m\n\u001b[0m                 ^\u001b[0m\n\u001b[0;31mSyntaxError\u001b[0m\u001b[0;31m:\u001b[0m non-default argument follows default argument\n"
     ]
    }
   ],
   "source": [
    "def MCTS_Zvec(S0,T,r,s,dt = 1/252,Zvec):\n",
    "    St = S0\n",
    "    n = int(round(T/dt,0))\n",
    "    r_dt = r * dt\n",
    "    s_sqrt_dt = s * np.sqrt(dt)\n",
    "    sims = np.zeros(n+1)\n",
    "    sims[0] = S0\n",
    "    for i in range(n):\n",
    "        sims[i+1] = sims[i] * (1+ np.random.normal(r_dt, s_sqrt_dt))\n",
    "    return sims"
   ]
  },
  {
   "cell_type": "code",
   "execution_count": 9,
   "metadata": {},
   "outputs": [],
   "source": [
    "S0 = 100\n",
    "T = 1\n",
    "s = .16\n",
    "r = .01\n",
    "\n",
    "S1vec = MCTS(S0,T,r,s,dt = 1/252)"
   ]
  },
  {
   "cell_type": "code",
   "execution_count": 12,
   "metadata": {},
   "outputs": [
    {
     "data": {
      "text/plain": [
       "[<matplotlib.lines.Line2D at 0x1a2596b950>]"
      ]
     },
     "execution_count": 12,
     "metadata": {},
     "output_type": "execute_result"
    },
    {
     "data": {
      "image/png": "[encoded data removed]",
      "text/plain": [
       "<Figure size 432x288 with 1 Axes>"
      ]
     },
     "metadata": {
      "needs_background": "light"
     },
     "output_type": "display_data"
    }
   ],
   "source": [
    "plt.plot(S1vec)"
   ]
  },
  {
   "cell_type": "code",
   "execution_count": null,
   "metadata": {},
   "outputs": [],
   "source": []
  }
 ],
 "metadata": {
  "kernelspec": {
   "display_name": "Python 3",
   "language": "python",
   "name": "python3"
  },
  "language_info": {
   "codemirror_mode": {
    "name": "ipython",
    "version": 3
   },
   "file_extension": ".py",
   "mimetype": "text/x-python",
   "name": "python",
   "nbconvert_exporter": "python",
   "pygments_lexer": "ipython3",
   "version": "3.7.4"
  }
 },
 "nbformat": 4,
 "nbformat_minor": 2
}
